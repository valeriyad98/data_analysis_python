{
 "cells": [
  {
   "cell_type": "code",
   "execution_count": 1,
   "id": "a5bf02f1",
   "metadata": {},
   "outputs": [],
   "source": [
    "# import packages with alias\n",
    "import numpy as np \n",
    "import pandas as pd \n",
    "import matplotlib.pyplot as plt\n",
    "\n",
    "%matplotlib inline"
   ]
  },
  {
   "cell_type": "code",
   "execution_count": 4,
   "id": "f0cf9d48",
   "metadata": {},
   "outputs": [
    {
     "data": {
      "text/plain": [
       "(3,)"
      ]
     },
     "execution_count": 4,
     "metadata": {},
     "output_type": "execute_result"
    }
   ],
   "source": [
    "array1 = np.array([1,2,3])\n",
    "array1.shape"
   ]
  },
  {
   "cell_type": "code",
   "execution_count": 6,
   "id": "022d57d0",
   "metadata": {},
   "outputs": [
    {
     "data": {
      "text/plain": [
       "(3, 2)"
      ]
     },
     "execution_count": 6,
     "metadata": {},
     "output_type": "execute_result"
    }
   ],
   "source": [
    "matrix1 = np.array([[1,2], [4,5], [7,8]])\n",
    "matrix1.shape"
   ]
  },
  {
   "cell_type": "code",
   "execution_count": 10,
   "id": "ba5e22f5",
   "metadata": {},
   "outputs": [
    {
     "data": {
      "text/plain": [
       "array([1, 2, 4, 5, 7, 8])"
      ]
     },
     "execution_count": 10,
     "metadata": {},
     "output_type": "execute_result"
    }
   ],
   "source": [
    "matrix1 = np.reshape(matrix1, (6,))\n",
    "matrix1"
   ]
  },
  {
   "cell_type": "code",
   "execution_count": 11,
   "id": "b16097d3",
   "metadata": {},
   "outputs": [
    {
     "data": {
      "text/plain": [
       "array([ 5, 10, 20, 25, 35, 40])"
      ]
     },
     "execution_count": 11,
     "metadata": {},
     "output_type": "execute_result"
    }
   ],
   "source": [
    "matrix1*5 # note similarity to R vector multiplication"
   ]
  },
  {
   "cell_type": "code",
   "execution_count": 14,
   "id": "3f834558",
   "metadata": {},
   "outputs": [
    {
     "data": {
      "text/plain": [
       "3"
      ]
     },
     "execution_count": 14,
     "metadata": {},
     "output_type": "execute_result"
    }
   ],
   "source": [
    "# dot product\n",
    "x = np.array([1,1,1])\n",
    "y = np.array([0,2,1])\n",
    "np.dot(x, y)"
   ]
  },
  {
   "cell_type": "code",
   "execution_count": 16,
   "id": "a62a5f42",
   "metadata": {},
   "outputs": [
    {
     "data": {
      "text/plain": [
       "array([[-0.39636819, -0.61997662,  1.28270543,  0.4489389 ,  0.1508279 ],\n",
       "       [ 0.16881084,  1.13725452,  0.29083287,  1.85644194,  0.75980711],\n",
       "       [ 1.64217361, -0.71042174, -1.02561048, -0.0268194 ,  3.31907587]])"
      ]
     },
     "execution_count": 16,
     "metadata": {},
     "output_type": "execute_result"
    }
   ],
   "source": [
    "matrix2 = np.random.randn(3,5)\n",
    "matrix2"
   ]
  },
  {
   "cell_type": "code",
   "execution_count": 18,
   "id": "0e887d0e",
   "metadata": {},
   "outputs": [
    {
     "data": {
      "text/html": [
       "<div>\n",
       "<style scoped>\n",
       "    .dataframe tbody tr th:only-of-type {\n",
       "        vertical-align: middle;\n",
       "    }\n",
       "\n",
       "    .dataframe tbody tr th {\n",
       "        vertical-align: top;\n",
       "    }\n",
       "\n",
       "    .dataframe thead th {\n",
       "        text-align: right;\n",
       "    }\n",
       "</style>\n",
       "<table border=\"1\" class=\"dataframe\">\n",
       "  <thead>\n",
       "    <tr style=\"text-align: right;\">\n",
       "      <th></th>\n",
       "      <th>0</th>\n",
       "      <th>1</th>\n",
       "      <th>2</th>\n",
       "      <th>3</th>\n",
       "      <th>4</th>\n",
       "    </tr>\n",
       "  </thead>\n",
       "  <tbody>\n",
       "    <tr>\n",
       "      <th>0</th>\n",
       "      <td>-0.396368</td>\n",
       "      <td>-0.619977</td>\n",
       "      <td>1.282705</td>\n",
       "      <td>0.448939</td>\n",
       "      <td>0.150828</td>\n",
       "    </tr>\n",
       "    <tr>\n",
       "      <th>1</th>\n",
       "      <td>0.168811</td>\n",
       "      <td>1.137255</td>\n",
       "      <td>0.290833</td>\n",
       "      <td>1.856442</td>\n",
       "      <td>0.759807</td>\n",
       "    </tr>\n",
       "    <tr>\n",
       "      <th>2</th>\n",
       "      <td>1.642174</td>\n",
       "      <td>-0.710422</td>\n",
       "      <td>-1.025610</td>\n",
       "      <td>-0.026819</td>\n",
       "      <td>3.319076</td>\n",
       "    </tr>\n",
       "  </tbody>\n",
       "</table>\n",
       "</div>"
      ],
      "text/plain": [
       "          0         1         2         3         4\n",
       "0 -0.396368 -0.619977  1.282705  0.448939  0.150828\n",
       "1  0.168811  1.137255  0.290833  1.856442  0.759807\n",
       "2  1.642174 -0.710422 -1.025610 -0.026819  3.319076"
      ]
     },
     "execution_count": 18,
     "metadata": {},
     "output_type": "execute_result"
    }
   ],
   "source": [
    "data_table = pd.DataFrame(matrix2)\n",
    "data_table"
   ]
  },
  {
   "cell_type": "code",
   "execution_count": 19,
   "id": "58cc483e",
   "metadata": {},
   "outputs": [
    {
     "data": {
      "text/html": [
       "<div>\n",
       "<style scoped>\n",
       "    .dataframe tbody tr th:only-of-type {\n",
       "        vertical-align: middle;\n",
       "    }\n",
       "\n",
       "    .dataframe tbody tr th {\n",
       "        vertical-align: top;\n",
       "    }\n",
       "\n",
       "    .dataframe thead th {\n",
       "        text-align: right;\n",
       "    }\n",
       "</style>\n",
       "<table border=\"1\" class=\"dataframe\">\n",
       "  <thead>\n",
       "    <tr style=\"text-align: right;\">\n",
       "      <th></th>\n",
       "      <th>c1</th>\n",
       "      <th>c2</th>\n",
       "      <th>c3</th>\n",
       "      <th>c4</th>\n",
       "      <th>c5</th>\n",
       "    </tr>\n",
       "  </thead>\n",
       "  <tbody>\n",
       "    <tr>\n",
       "      <th>0</th>\n",
       "      <td>-0.396368</td>\n",
       "      <td>-0.619977</td>\n",
       "      <td>1.282705</td>\n",
       "      <td>0.448939</td>\n",
       "      <td>0.150828</td>\n",
       "    </tr>\n",
       "    <tr>\n",
       "      <th>1</th>\n",
       "      <td>0.168811</td>\n",
       "      <td>1.137255</td>\n",
       "      <td>0.290833</td>\n",
       "      <td>1.856442</td>\n",
       "      <td>0.759807</td>\n",
       "    </tr>\n",
       "    <tr>\n",
       "      <th>2</th>\n",
       "      <td>1.642174</td>\n",
       "      <td>-0.710422</td>\n",
       "      <td>-1.025610</td>\n",
       "      <td>-0.026819</td>\n",
       "      <td>3.319076</td>\n",
       "    </tr>\n",
       "  </tbody>\n",
       "</table>\n",
       "</div>"
      ],
      "text/plain": [
       "         c1        c2        c3        c4        c5\n",
       "0 -0.396368 -0.619977  1.282705  0.448939  0.150828\n",
       "1  0.168811  1.137255  0.290833  1.856442  0.759807\n",
       "2  1.642174 -0.710422 -1.025610 -0.026819  3.319076"
      ]
     },
     "execution_count": 19,
     "metadata": {},
     "output_type": "execute_result"
    }
   ],
   "source": [
    "data_table.columns = [\"c1\", \"c2\", \"c3\", \"c4\", \"c5\"]\n",
    "data_table"
   ]
  },
  {
   "cell_type": "code",
   "execution_count": 20,
   "id": "826af6d4",
   "metadata": {},
   "outputs": [
    {
     "data": {
      "text/plain": [
       "0   -0.396368\n",
       "1    0.168811\n",
       "2    1.642174\n",
       "Name: c1, dtype: float64"
      ]
     },
     "execution_count": 20,
     "metadata": {},
     "output_type": "execute_result"
    }
   ],
   "source": [
    "data_table[\"c1\"]"
   ]
  },
  {
   "cell_type": "code",
   "execution_count": 22,
   "id": "eeee08a0",
   "metadata": {},
   "outputs": [
    {
     "data": {
      "text/html": [
       "<div>\n",
       "<style scoped>\n",
       "    .dataframe tbody tr th:only-of-type {\n",
       "        vertical-align: middle;\n",
       "    }\n",
       "\n",
       "    .dataframe tbody tr th {\n",
       "        vertical-align: top;\n",
       "    }\n",
       "\n",
       "    .dataframe thead th {\n",
       "        text-align: right;\n",
       "    }\n",
       "</style>\n",
       "<table border=\"1\" class=\"dataframe\">\n",
       "  <thead>\n",
       "    <tr style=\"text-align: right;\">\n",
       "      <th></th>\n",
       "      <th>c1</th>\n",
       "      <th>c2</th>\n",
       "      <th>c3</th>\n",
       "      <th>c4</th>\n",
       "      <th>c5</th>\n",
       "    </tr>\n",
       "  </thead>\n",
       "  <tbody>\n",
       "    <tr>\n",
       "      <th>count</th>\n",
       "      <td>3.000000</td>\n",
       "      <td>3.000000</td>\n",
       "      <td>3.000000</td>\n",
       "      <td>3.000000</td>\n",
       "      <td>3.000000</td>\n",
       "    </tr>\n",
       "    <tr>\n",
       "      <th>mean</th>\n",
       "      <td>0.471539</td>\n",
       "      <td>-0.064381</td>\n",
       "      <td>0.182643</td>\n",
       "      <td>0.759520</td>\n",
       "      <td>1.409904</td>\n",
       "    </tr>\n",
       "    <tr>\n",
       "      <th>std</th>\n",
       "      <td>1.052448</td>\n",
       "      <td>1.041629</td>\n",
       "      <td>1.157955</td>\n",
       "      <td>0.979293</td>\n",
       "      <td>1.681195</td>\n",
       "    </tr>\n",
       "    <tr>\n",
       "      <th>min</th>\n",
       "      <td>-0.396368</td>\n",
       "      <td>-0.710422</td>\n",
       "      <td>-1.025610</td>\n",
       "      <td>-0.026819</td>\n",
       "      <td>0.150828</td>\n",
       "    </tr>\n",
       "    <tr>\n",
       "      <th>25%</th>\n",
       "      <td>-0.113779</td>\n",
       "      <td>-0.665199</td>\n",
       "      <td>-0.367389</td>\n",
       "      <td>0.211060</td>\n",
       "      <td>0.455318</td>\n",
       "    </tr>\n",
       "    <tr>\n",
       "      <th>50%</th>\n",
       "      <td>0.168811</td>\n",
       "      <td>-0.619977</td>\n",
       "      <td>0.290833</td>\n",
       "      <td>0.448939</td>\n",
       "      <td>0.759807</td>\n",
       "    </tr>\n",
       "    <tr>\n",
       "      <th>75%</th>\n",
       "      <td>0.905492</td>\n",
       "      <td>0.258639</td>\n",
       "      <td>0.786769</td>\n",
       "      <td>1.152690</td>\n",
       "      <td>2.039441</td>\n",
       "    </tr>\n",
       "    <tr>\n",
       "      <th>max</th>\n",
       "      <td>1.642174</td>\n",
       "      <td>1.137255</td>\n",
       "      <td>1.282705</td>\n",
       "      <td>1.856442</td>\n",
       "      <td>3.319076</td>\n",
       "    </tr>\n",
       "  </tbody>\n",
       "</table>\n",
       "</div>"
      ],
      "text/plain": [
       "             c1        c2        c3        c4        c5\n",
       "count  3.000000  3.000000  3.000000  3.000000  3.000000\n",
       "mean   0.471539 -0.064381  0.182643  0.759520  1.409904\n",
       "std    1.052448  1.041629  1.157955  0.979293  1.681195\n",
       "min   -0.396368 -0.710422 -1.025610 -0.026819  0.150828\n",
       "25%   -0.113779 -0.665199 -0.367389  0.211060  0.455318\n",
       "50%    0.168811 -0.619977  0.290833  0.448939  0.759807\n",
       "75%    0.905492  0.258639  0.786769  1.152690  2.039441\n",
       "max    1.642174  1.137255  1.282705  1.856442  3.319076"
      ]
     },
     "execution_count": 22,
     "metadata": {},
     "output_type": "execute_result"
    }
   ],
   "source": [
    "data_table.describe()"
   ]
  },
  {
   "cell_type": "code",
   "execution_count": null,
   "id": "a5832167",
   "metadata": {},
   "outputs": [],
   "source": []
  }
 ],
 "metadata": {
  "kernelspec": {
   "display_name": "Python 3 (ipykernel)",
   "language": "python",
   "name": "python3"
  },
  "language_info": {
   "codemirror_mode": {
    "name": "ipython",
    "version": 3
   },
   "file_extension": ".py",
   "mimetype": "text/x-python",
   "name": "python",
   "nbconvert_exporter": "python",
   "pygments_lexer": "ipython3",
   "version": "3.9.12"
  }
 },
 "nbformat": 4,
 "nbformat_minor": 5
}
